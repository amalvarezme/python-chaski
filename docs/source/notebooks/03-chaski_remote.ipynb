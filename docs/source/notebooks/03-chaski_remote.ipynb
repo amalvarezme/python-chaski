{
 "cells": [
  {
   "cell_type": "code",
   "execution_count": 1,
   "id": "87beb493-c080-4db6-b188-8faa02ae0143",
   "metadata": {
    "nbsphinx": "hidden"
   },
   "outputs": [],
   "source": [
    "import sys\n",
    "sys.path.append('../../..')"
   ]
  },
  {
   "cell_type": "markdown",
   "id": "9c67ae32-ad47-410c-bd08-c0718f364edf",
   "metadata": {},
   "source": [
    "# ChaskiRemote: Proxy for Distributed Network Interactions\n",
    "\n",
    "ChaskiRemote is designed to facilitate communication across distributed networks. It acts as an intermediary, managing interactions and ensuring robust connectivity.\n",
    "\n",
    "**Key Features:**  \n",
    "\n",
    "- **Scalability**: Easily manage multiple network nodes.  \n",
    "- **Reliability**: Ensure consistent and reliable data transmission.  \n",
    "- **Flexibility**: Adapt to various network topologies and protocols.  "
   ]
  },
  {
   "cell_type": "markdown",
   "id": "74f32056-8679-42b0-96f4-e3dba2866fa3",
   "metadata": {},
   "source": [
    "## Server\n",
    "\n",
    "The `ChaskiRemote` server facilitates network communication by acting as a proxy for distributed nodes.\n",
    "It ensures robust connectivity, reliable data transmission, and handles the management of various\n",
    "network protocols and topologies seamlessly."
   ]
  },
  {
   "cell_type": "code",
   "execution_count": 2,
   "id": "0caa12d4-c3b0-4477-867a-8ed0927a049e",
   "metadata": {},
   "outputs": [
    {
     "data": {
      "text/plain": [
       "'ChaskiRemote@127.0.0.1:65432'"
      ]
     },
     "execution_count": 2,
     "metadata": {},
     "output_type": "execute_result"
    }
   ],
   "source": [
    "from chaski.remote import ChaskiRemote\n",
    "import numpy\n",
    "\n",
    "server = ChaskiRemote(port='65432')\n",
    "server.register('np', numpy)\n",
    "\n",
    "server.address"
   ]
  },
  {
   "cell_type": "markdown",
   "id": "7988b642",
   "metadata": {},
   "source": [
    "## Client\n",
    "\n",
    "The `ChaskiRemote` client leverages the server's capabilities to facilitate remote interactions.\n",
    "By connecting to the proxy server, clients can seamlessly execute distributed commands\n",
    "and access shared resources across the network without dealing with the complexities\n",
    "of network communication protocols.\n"
   ]
  },
  {
   "cell_type": "code",
   "execution_count": 3,
   "id": "d9f78716-ab02-4ca8-8bcb-ff0762851286",
   "metadata": {},
   "outputs": [],
   "source": [
    "client = ChaskiRemote()\n",
    "await client.connect(\"ChaskiRemote@127.0.0.1:65432\")"
   ]
  },
  {
   "cell_type": "markdown",
   "id": "c226a077",
   "metadata": {},
   "source": [
    "### Connect to Remote NumPy\n",
    "\n",
    "Once connected to the `ChaskiRemote` server, you can access and use the registered libraries,\n",
    "such as NumPy, as if they were local.\n"
   ]
  },
  {
   "cell_type": "code",
   "execution_count": 4,
   "id": "164d33b5-3ad2-4c11-8aac-c614bd88dc44",
   "metadata": {},
   "outputs": [
    {
     "data": {
      "text/plain": [
       "Proxy(np)"
      ]
     },
     "execution_count": 4,
     "metadata": {},
     "output_type": "execute_result"
    }
   ],
   "source": [
    "np = await client.proxy('np')\n",
    "np"
   ]
  },
  {
   "cell_type": "markdown",
   "id": "5e47d314",
   "metadata": {},
   "source": [
    "### Use remote Numpy\n",
    "\n",
    "The following code generates a 4x4 matrix with normally distributed random numbers using\n",
    "the remote NumPy library connected through `ChaskiRemote`."
   ]
  },
  {
   "cell_type": "code",
   "execution_count": 5,
   "id": "1fa8ae97-3b1b-4cc8-8629-0eb0da1e2491",
   "metadata": {},
   "outputs": [
    {
     "data": {
      "text/plain": [
       "array([[-0.65101309,  1.26430892,  0.229832  , -0.59898951],\n",
       "       [ 0.65615735,  0.89564207, -0.87506377,  0.84009951],\n",
       "       [ 0.69123699, -0.51297859, -0.46439425, -1.06170914],\n",
       "       [-1.98993367, -0.05211042, -0.97664241, -0.29647637]])"
      ]
     },
     "execution_count": 5,
     "metadata": {},
     "output_type": "execute_result"
    }
   ],
   "source": [
    "await np.random.normal(0, 1, (4, 4))"
   ]
  },
  {
   "cell_type": "code",
   "execution_count": null,
   "id": "bfa4bae9-baea-47d2-849c-8e177f6c12ad",
   "metadata": {},
   "outputs": [],
   "source": []
  }
 ],
 "metadata": {
  "kernelspec": {
   "display_name": "Python 3 (ipykernel)",
   "language": "python",
   "name": "python3"
  },
  "language_info": {
   "codemirror_mode": {
    "name": "ipython",
    "version": 3
   },
   "file_extension": ".py",
   "mimetype": "text/x-python",
   "name": "python",
   "nbconvert_exporter": "python",
   "pygments_lexer": "ipython3",
   "version": "3.12.4"
  }
 },
 "nbformat": 4,
 "nbformat_minor": 5
}
