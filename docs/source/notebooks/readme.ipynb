{
 "cells": [
  {
   "cell_type": "markdown",
   "id": "71e3e7eb-7435-40ad-af35-27c54337d543",
   "metadata": {},
   "source": [
    "> Developed by [Yeison Nolberto Cardona Álvarez, MSc.](https://github.com/yeisonCardona)\n",
    "[Andrés Marino Álvarez Meza, PhD.](https://github.com/amalvarezme)\n",
    "César Germán Castellanos Dominguez, PhD.\n",
    "> _Digital Signal Processing and Control Group_  | _Grupo de Control y Procesamiento Digital de Señales ([GCPDS](https://github.com/UN-GCPDS/))_\n",
    "> _Universidad Nacional de Colombia sede Manizales_\n",
    "\n",
    "----"
   ]
  },
  {
   "cell_type": "markdown",
   "id": "1de1dbeb-7a1b-42e8-9f40-18b9390329ed",
   "metadata": {},
   "source": [
    "<div class=\"alert alert-block alert-warning\">\n",
    "<b>Warning:</b> This module is still under development and its features are subject to change in the future.\n",
    "</div>"
   ]
  },
  {
   "cell_type": "markdown",
   "id": "b830553b-ba7d-44ed-ad52-c5e245fbfbfb",
   "metadata": {},
   "source": [
    "# Chaski Confluent\n",
    "\n",
    "Chaski Confluent is an advanced distributed node communication framework that utilizes TCP/IP\n",
    "for inter-node connections, ensuring efficient message handling, serialization, discovery, and\n",
    "pairing of nodes based on common subscription topics, thus facilitating dynamic and resilient\n",
    "data exchange in complex network topologies."
   ]
  },
  {
   "cell_type": "markdown",
   "id": "1f8db753-6c29-450b-84da-6952f82ca870",
   "metadata": {},
   "source": [
    "![GitHub top language](https://img.shields.io/github/languages/top/dunderlab/python-chaski)\n",
    "![PyPI - License](https://img.shields.io/pypi/l/chaski)\n",
    "![PyPI](https://img.shields.io/pypi/v/chaski)\n",
    "![PyPI - Status](https://img.shields.io/pypi/status/chaski)\n",
    "![PyPI - Python Version](https://img.shields.io/pypi/pyversions/chaski)\n",
    "![GitHub last commit](https://img.shields.io/github/last-commit/dunderlab/python-chaski)\n",
    "![CodeFactor Grade](https://img.shields.io/codefactor/grade/github/dunderlab/python-chaski)\n",
    "[![Documentation Status](https://readthedocs.org/projects/chaski-confluent/badge/?version=latest)](https://chaski-confluent.readthedocs.io/en/latest/?badge=latest)"
   ]
  },
  {
   "cell_type": "markdown",
   "id": "b471965f-6180-49a3-923e-0900aca21c84",
   "metadata": {},
   "source": [
    "Chaski Confluent is engineered to address the communication challenges in distributed systems,\n",
    "offering a robust and efficient framework. It leverages the flexibility of TCP/IP protocols to\n",
    "ensure reliable data exchange across varied network conditions. By utilizing advanced node discovery\n",
    "and pairing mechanisms, Chaski Confluent enables seamless integration and collaboration among nodes.\n",
    "\n",
    "Through features such as ping and latency management, the framework keeps communications optimal,\n",
    "which is crucial for maintaining the health and performance of the network. Subscription management\n",
    "ensures that messages are only sent to relevant nodes, enhancing efficiency and reducing unnecessary\n",
    "data transfer. Moreover, Chaski Confluent's resilience through keep-alive checks and graceful\n",
    "reconnections guarantees continuous and stable network operations."
   ]
  },
  {
   "cell_type": "markdown",
   "id": "4ad330c0-33f4-4e18-b31d-a0dc933d2ee6",
   "metadata": {},
   "source": [
    "## Work Plan\n",
    "\n",
    "**Capture Exceptions**:\n",
    "Implement robust exception handling across the framework to ensure that all potential errors are caught and managed gracefully.\n",
    "\n",
    "**Add Usage Examples**:\n",
    "Provide detailed examples demonstrating the use of Chaski Confluent in various scenarios. This will help users understand how to integrate and utilize the framework effectively.\n",
    "\n",
    "**Add Containers**:\n",
    "Integrate containerization support (e.g., Docker) to facilitate the deployment and management of Chaski Confluent nodes in different environments.\n",
    "\n",
    "**Add 'Attach Function' Feature to ChaskiRemote**:\n",
    "Enhance the ChaskiRemote class by adding a feature that allows functions to be dynamically attached and executed remotely. This will increase the flexibility and usability of remote method invocation."
   ]
  },
  {
   "cell_type": "markdown",
   "id": "c20a6bd2",
   "metadata": {
    "lines_to_next_cell": 2
   },
   "source": [
    "## Main Features of Chaski Confluent\n",
    "\n",
    "The Chaski Confluent framework provides various powerful features that make it suitable for managing distributed systems. Here are some of the key features:\n",
    "\n",
    "**TCP and UDP Communication:**\n",
    "Chaski Confluent supports both TCP and UDP protocols, allowing for reliable and timely message delivery between nodes. The framework ensures efficient data transfer irrespective of the underlying network conditions.\n",
    "\n",
    "**Node Discovery and Pairing:**\n",
    "Automatic discovery of nodes based on shared subscription topics is a crucial feature. Chaski Confluent facilitates the pairing of nodes with common interests, making it easy to build dynamic and scalable network topologies.\n",
    "\n",
    "**Ping and Latency Management:**\n",
    "The framework includes built-in mechanisms for measuring latency between nodes through ping operations. This helps in maintaining healthy connections and ensures that communication within the network is optimal.\n",
    "\n",
    "**Subscription Management:**\n",
    "Nodes can subscribe to specific topics, and messages are routed efficiently based on these subscriptions. This allows for effective communication and data exchange only with relevant nodes.\n",
    "\n",
    "**Keep-alive and Disconnection Handling:**\n",
    "Chaski Confluent ensures that connections between nodes remain active by implementing keep-alive checks. If a connection is lost, the framework handles reconnection attempts gracefully to maintain network integrity.\n",
    "\n",
    "**Remote Method Invocation:**\n",
    "The Chaski Remote class enables remote method invocation and interaction across distributed nodes. Nodes can communicate transparently, invoking methods and accessing attributes on remote objects as if they were local."
   ]
  },
  {
   "cell_type": "markdown",
   "id": "f49232ac",
   "metadata": {},
   "source": [
    "## Chaski Node\n",
    "\n",
    "The Chaski Node is an essential component of the Chaski Confluent system. It is responsible for initiating and managing\n",
    "network communication between distributed nodes. This class handles functions such as connection establishment,\n",
    "message passing, node discovery, and pairing based on shared subscriptions."
   ]
  },
  {
   "cell_type": "markdown",
   "id": "d2c72e20",
   "metadata": {},
   "source": [
    "## Chaski Streamer\n",
    "\n",
    "The Chaski Streamer extends the functionality of Chaski Node by introducing asynchronous message streaming capabilities.\n",
    "It sets up an internal message queue to manage incoming messages, allowing efficient and scalable message processing within a distributed environment.\n",
    "The ChaskiStreamer can enter an asynchronous context, enabling the user to stream messages using the `async with` statement.\n",
    "This allows for handling messages dynamically as they arrive, enhancing the responsiveness and flexibility of the system.\n",
    "\n",
    "## Chaski Remote\n",
    "\n",
    "The Chaski Remote class enhances the Chaski Node functionality by enabling remote method invocation and interaction\n",
    "across distributed nodes. It equips nodes with the ability to communicate transparently, invoking methods and accessing\n",
    "attributes on remote objects as if they were local. This is achieved by utilizing the Proxy class, which wraps around\n",
    "the remote objects and provides a clean interface for method calls and attribute access.\n"
   ]
  }
 ],
 "metadata": {
  "jupytext": {
   "formats": "py:light,ipynb"
  },
  "kernelspec": {
   "display_name": "Python 3 (ipykernel)",
   "language": "python",
   "name": "python3"
  },
  "language_info": {
   "codemirror_mode": {
    "name": "ipython",
    "version": 3
   },
   "file_extension": ".py",
   "mimetype": "text/x-python",
   "name": "python",
   "nbconvert_exporter": "python",
   "pygments_lexer": "ipython3",
   "version": "3.12.4"
  }
 },
 "nbformat": 4,
 "nbformat_minor": 5
}
