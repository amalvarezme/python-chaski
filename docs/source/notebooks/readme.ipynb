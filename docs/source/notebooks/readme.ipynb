{
 "cells": [
  {
   "cell_type": "markdown",
   "id": "ea8e5241-605b-47bb-a93e-a290b7a86a05",
   "metadata": {},
   "source": [
    "# Chaski Confluent"
   ]
  },
  {
   "cell_type": "markdown",
   "id": "b830553b-ba7d-44ed-ad52-c5e245fbfbfb",
   "metadata": {},
   "source": [
    "Chaski Confluent is an advanced distributed node communication framework that utilizes TCP/IP\n",
    "for inter-node connections, ensuring efficient message handling, serialization, discovery, and\n",
    "pairing of nodes based on common subscription topics, thus facilitating dynamic and resilient\n",
    "data exchange in complex network topologies."
   ]
  },
  {
   "cell_type": "markdown",
   "id": "c20a6bd2",
   "metadata": {
    "lines_to_next_cell": 2
   },
   "source": [
    "## Main Features of Chaski Confluent\n",
    "\n",
    "The Chaski Confluent framework provides various powerful features that make it suitable for managing distributed systems. Here are some of the key features:\n",
    "\n",
    "**1. TCP and UDP Communication:**\n",
    "Chaski Confluent supports both TCP and UDP protocols, allowing for reliable and timely message delivery between nodes. The framework ensures efficient data transfer irrespective of the underlying network conditions.\n",
    "\n",
    "**2. Node Discovery and Pairing:**\n",
    "Automatic discovery of nodes based on shared subscription topics is a crucial feature. Chaski Confluent facilitates the pairing of nodes with common interests, making it easy to build dynamic and scalable network topologies.\n",
    "\n",
    "**3. Ping and Latency Management:**\n",
    "The framework includes built-in mechanisms for measuring latency between nodes through ping operations. This helps in maintaining healthy connections and ensures that communication within the network is optimal.\n",
    "\n",
    "**4. Subscription Management:**\n",
    "Nodes can subscribe to specific topics, and messages are routed efficiently based on these subscriptions. This allows for effective communication and data exchange only with relevant nodes.\n",
    "\n",
    "**5. Keep-alive and Disconnection Handling:**\n",
    "Chaski Confluent ensures that connections between nodes remain active by implementing keep-alive checks. If a connection is lost, the framework handles reconnection attempts gracefully to maintain network integrity.\n",
    "\n",
    "**6. Remote Method Invocation:**\n",
    "The Chaski Remote class enables remote method invocation and interaction across distributed nodes. Nodes can communicate transparently, invoking methods and accessing attributes on remote objects as if they were local."
   ]
  },
  {
   "cell_type": "markdown",
   "id": "f49232ac",
   "metadata": {},
   "source": [
    "## Chaski Node\n",
    "\n",
    "The Chaski Node is an essential component of the Chaski Confluent system. It is responsible for initiating and managing\n",
    "network communication between distributed nodes. This class handles functions such as connection establishment,\n",
    "message passing, node discovery, and pairing based on shared subscriptions."
   ]
  },
  {
   "cell_type": "markdown",
   "id": "d2c72e20",
   "metadata": {},
   "source": [
    "## Chaski Streamer\n",
    "\n",
    "The Chaski Streamer extends the functionality of Chaski Node by introducing asynchronous message streaming capabilities.\n",
    "It sets up an internal message queue to manage incoming messages, allowing efficient and scalable message processing within a distributed environment.\n",
    "The ChaskiStreamer can enter an asynchronous context, enabling the user to stream messages using the `async with` statement.\n",
    "This allows for handling messages dynamically as they arrive, enhancing the responsiveness and flexibility of the system.\n",
    "\n",
    "## Chaski Remote\n",
    "\n",
    "The Chaski Remote class enhances the Chaski Node functionality by enabling remote method invocation and interaction\n",
    "across distributed nodes. It equips nodes with the ability to communicate transparently, invoking methods and accessing\n",
    "attributes on remote objects as if they were local. This is achieved by utilizing the Proxy class, which wraps around\n",
    "the remote objects and provides a clean interface for method calls and attribute access.\n"
   ]
  }
 ],
 "metadata": {
  "jupytext": {
   "formats": "py:light,ipynb"
  },
  "kernelspec": {
   "display_name": "Python 3 (ipykernel)",
   "language": "python",
   "name": "python3"
  },
  "language_info": {
   "codemirror_mode": {
    "name": "ipython",
    "version": 3
   },
   "file_extension": ".py",
   "mimetype": "text/x-python",
   "name": "python",
   "nbconvert_exporter": "python",
   "pygments_lexer": "ipython3",
   "version": "3.12.4"
  }
 },
 "nbformat": 4,
 "nbformat_minor": 5
}
