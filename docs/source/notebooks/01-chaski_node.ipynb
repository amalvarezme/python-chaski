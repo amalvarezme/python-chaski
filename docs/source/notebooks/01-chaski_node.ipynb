{
 "cells": [
  {
   "cell_type": "code",
   "execution_count": 1,
   "id": "d029c85b-2613-4364-a4d8-1a3eae1179c9",
   "metadata": {
    "editable": true,
    "nbsphinx": "hidden",
    "slideshow": {
     "slide_type": ""
    },
    "tags": []
   },
   "outputs": [],
   "source": [
    "import sys\n",
    "sys.path.append('../../..')"
   ]
  },
  {
   "cell_type": "markdown",
   "id": "2a0a5caa-b739-41c7-a420-a24914a800d8",
   "metadata": {},
   "source": [
    "# ChaskiNode: Distributed Node Communication and Management\n",
    "\n",
    "The `ChaskiNode` class is designed to manage network communication between distributed nodes.\n",
    "This class handles various network operations such as initiating connections, handling incoming requests,\n",
    "and orchestrating network-wide actions like discovery and pairing of nodes based on shared subscriptions.\n",
    "\n",
    "**Key Features:**\n",
    "- **TCP and UDP Communication**: Supports both TCP and UDP protocols for reliable and timely message delivery.\n",
    "- **Node Discovery and Pairing**: Handles discovery of other nodes and establishes connections based on subscriptions.\n",
    "- **Ping and Latency Management**: Supports ping operations for measuring latency and maintaining connection health.\n",
    "- **Subscription Management**: Manages subscribed topics and pairs nodes sharing common interests.\n",
    "- **Keep-alive and Disconnection Handling**: Maintains active connections and handles disconnections gracefully.\n",
    "\n"
   ]
  },
  {
   "cell_type": "markdown",
   "id": "285c7417-e6bc-4e10-a1fa-480afe9f0135",
   "metadata": {},
   "source": [
    "## Create node\n",
    "\n",
    "To create a `ChaskiNode`, you need to instantiate it with the appropriate parameters. Here’s an example to guide you:"
   ]
  },
  {
   "cell_type": "code",
   "execution_count": 2,
   "id": "908606b8-094a-4787-990b-6e318a99746a",
   "metadata": {},
   "outputs": [
    {
     "name": "stderr",
     "output_type": "stream",
     "text": [
      "Node1: Connection closed while reading from ('127.0.0.1', 48470).\n",
      "Node1: An exception occurred: \n",
      "Traceback (most recent call last):\n",
      "  File \"/home/yeison/Development/PythonDev/DunderLab/python-chaski/docs/source/notebooks/../../../chaski/node.py\", line 714, in _reader_loop\n",
      "    length_data = await edge.reader.readexactly(4)\n",
      "                  ^^^^^^^^^^^^^^^^^^^^^^^^^^^^^^^^\n",
      "  File \"/usr/lib/python3.12/asyncio/streams.py\", line 750, in readexactly\n",
      "    raise exceptions.IncompleteReadError(incomplete, n)\n",
      "asyncio.exceptions.IncompleteReadError: 0 bytes read on a total of 4 expected bytes\n",
      "\n",
      "Node1: Closing connection with Node2: N( 0,  0) 127.0.0.1: 12346\n",
      "Node1: An exception occurred: \n",
      "NoneType: None\n",
      "\n"
     ]
    }
   ],
   "source": [
    "from chaski.node import ChaskiNode\n",
    "\n",
    "# Initialize the ChaskiNode with required parameters\n",
    "node = ChaskiNode(\n",
    "    host='127.0.0.1',        # The IP address or hostname to bind the node\n",
    "    port=12345,             # The port number to bind the node\n",
    "    name='Node1',           # Optional: The name of the node for identification\n",
    "    subscriptions=['topic1', 'topic2'],  # Topics that the node is interested in\n",
    "    run=True                # Determine if the TCP/UDP servers should start immediately\n",
    ")"
   ]
  },
  {
   "cell_type": "markdown",
   "id": "13afb349-9730-47d1-a281-27fd592ee620",
   "metadata": {},
   "source": [
    "### Parameters:\n",
    "- **host**: The hostname or IP address to listen on or bind to.\n",
    "- **port**: The port number to listen on or bind to.\n",
    "- **name**: Optional. The name of the node, used for identification and logging.\n",
    "- **subscriptions**: Optional. A list of subscription topics this node is interested in.\n",
    "- **run**: Optional. A flag to start the servers immediately upon initialization.\n",
    "\n",
    "The `ChaskiNode` will handle the network communication, manage the connections, and take care of aspects like node discovery, pairing, and ping operations for latency measurement."
   ]
  },
  {
   "cell_type": "markdown",
   "id": "39376fd9-60ee-4519-b354-7a76bd5560b8",
   "metadata": {},
   "source": [
    "## Set connections between nodes\n",
    "\n",
    "To establish connections between nodes, you can use the `connect_to_peer` method of the `ChaskiNode` class. This method allows a node to initiate a TCP connection to a specified peer node. Here’s an example:"
   ]
  },
  {
   "cell_type": "code",
   "execution_count": 3,
   "id": "98c904c1-3bd5-46b1-8b27-aba819e30099",
   "metadata": {},
   "outputs": [],
   "source": [
    "from chaski.node import ChaskiNode\n",
    "\n",
    "# Initialize the first ChaskiNode with required parameters\n",
    "node1 = ChaskiNode(\n",
    "    host='127.0.0.1',        # The IP address or hostname to bind the node\n",
    "    port=12345,             # The port number to bind the node\n",
    "    name='Node1',           # The name of the node for identification\n",
    "    subscriptions=['A', 'B'],  # Topics that the node is interested in\n",
    "    run=True,               # Start the TCP/UDP servers immediately\n",
    "    root=True\n",
    ")\n",
    "\n",
    "# Initialize the second ChaskiNode with required parameters\n",
    "node2 = ChaskiNode(\n",
    "    host='127.0.0.1',        # The IP address or hostname to bind the node\n",
    "    port=12346,             # The port number to bind the node\n",
    "    name='Node2',           # The name of the node for identification\n",
    "    subscriptions=['B', 'C'],  # Topics that the node is interested in\n",
    "    run=True                # Start the TCP/UDP servers immediately\n",
    ")\n",
    "\n",
    "# Initialize the second ChaskiNode with required parameters\n",
    "node3 = ChaskiNode(\n",
    "    host='127.0.0.1',        # The IP address or hostname to bind the node\n",
    "    port=12347,             # The port number to bind the node\n",
    "    name='Node3',           # The name of the node for identification\n",
    "    subscriptions=['C', 'D'],  # Topics that the node is interested in\n",
    "    run=True                # Start the TCP/UDP servers immediately\n",
    ")\n",
    "\n",
    "# Connect node1 to node2\n",
    "await node2.connect_to_peer(node1)\n",
    "await node3.connect_to_peer(node1)"
   ]
  },
  {
   "cell_type": "markdown",
   "id": "28310097-ac06-4b4c-8138-113ee50570fe",
   "metadata": {},
   "source": [
    "This method allows `node1` to establish a connection to `node2` by specifying the host and port of `node2`."
   ]
  },
  {
   "cell_type": "code",
   "execution_count": 4,
   "id": "ad752ff9-3ca3-4f4c-9f48-593f4f8213fc",
   "metadata": {},
   "outputs": [
    {
     "name": "stdout",
     "output_type": "stream",
     "text": [
      "Node1 {'B', 'A'} {'B': True, 'A': True} 0\n",
      "Node2 {'B', 'C'} {'B': False, 'C': False} 0\n",
      "Node3 {'C', 'D'} {'C': False, 'D': False} 0\n"
     ]
    }
   ],
   "source": [
    "for node in [node1, node2, node3]:\n",
    "    print(node.name, node.subscriptions, node.get_status()['paired'], len(node.edges))"
   ]
  },
  {
   "cell_type": "code",
   "execution_count": 6,
   "id": "d8cc24ed-4576-4acd-b9b5-1a92f9896a98",
   "metadata": {},
   "outputs": [
    {
     "data": {
      "image/png": "[encoded data removed]",
      "text/plain": [
       "<Figure size 1440x810 with 1 Axes>"
      ]
     },
     "metadata": {},
     "output_type": "display_data"
    }
   ],
   "source": [
    "from chaski.utils.viz import display_graph\n",
    "\n",
    "display_graph([node1, node2, node3])"
   ]
  },
  {
   "cell_type": "markdown",
   "id": "7ef115c4-d7f4-43c7-87c6-6453afde94b8",
   "metadata": {},
   "source": [
    "## About discovery feature\n",
    "\n",
    "To utilize the discovery feature in `ChaskiNode`, you can call the `discovery` method. This method will enable a node to discover other nodes with matching subscriptions within the network and pair with them if they are not already paired. Below is an example:\n",
    "\n",
    "```python\n",
    "from chaski.node import ChaskiNode\n",
    "\n",
    "# Initialize a new ChaskiNode\n",
    "node = ChaskiNode(\n",
    "    host='127.0.0.1',        # The IP address or hostname to bind the node\n",
    "    port=12345,             # The port number to bind the node\n",
    "    name='Node1',           # Optional: The name of the node for identification\n",
    "    subscriptions=['topic1', 'topic2'],  # Topics that the node is interested in\n",
    "    run=True                # Start the TCP/UDP servers immediately\n",
    ")\n",
    "\n",
    "# Perform the discovery process\n",
    "await node.discovery()\n",
    "\n",
    "```\n",
    "\n",
    "### Parameters:\n",
    "- **node**: Optional. A reference to a ChaskiNode instance to start the discovery process from. If set to `None`, the discovery will be performed using the node itself.\n",
    "- **on_pair**: Optional. A flag determining the action to be taken when a peer is discovered. Can be 'none' (no action) or 'disconnect' (disconnect after pairing). Defaults to 'none'.\n",
    "- **timeout**: Optional. The maximum time in seconds to wait for the discovery process to complete before considering the node as paired. Defaults to 10 seconds.\n",
    "\n",
    "The `discovery` method will initiate a network-wide discovery process, connecting nodes with matching subscriptions and marking them as paired."
   ]
  },
  {
   "cell_type": "code",
   "execution_count": null,
   "id": "01efa5f7-1444-4fb0-a503-244a994b7ea4",
   "metadata": {},
   "outputs": [],
   "source": []
  }
 ],
 "metadata": {
  "kernelspec": {
   "display_name": "Python 3 (ipykernel)",
   "language": "python",
   "name": "python3"
  },
  "language_info": {
   "codemirror_mode": {
    "name": "ipython",
    "version": 3
   },
   "file_extension": ".py",
   "mimetype": "text/x-python",
   "name": "python",
   "nbconvert_exporter": "python",
   "pygments_lexer": "ipython3",
   "version": "3.12.4"
  }
 },
 "nbformat": 4,
 "nbformat_minor": 5
}
