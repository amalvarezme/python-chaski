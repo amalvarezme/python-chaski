{
 "cells": [
  {
   "cell_type": "code",
   "execution_count": null,
   "id": "d590e4a0",
   "metadata": {
    "nbsphinx": "hidden"
   },
   "outputs": [],
   "source": [
    "import sys\n",
    "sys.path.append('../../..')"
   ]
  },
  {
   "cell_type": "markdown",
   "id": "0e11935b",
   "metadata": {},
   "source": [
    "# ChaskiStreamer: The gateway to efficient and scalable message streaming in distributed networks"
   ]
  }
 ],
 "metadata": {
  "jupytext": {
   "formats": "auto:percent,ipynb",
   "main_language": "python"
  },
  "kernelspec": {
   "display_name": "Python 3 (ipykernel)",
   "language": "python",
   "name": "python3"
  },
  "language_info": {
   "codemirror_mode": {
    "name": "ipython",
    "version": 3
   },
   "file_extension": ".py",
   "mimetype": "text/x-python",
   "name": "python",
   "nbconvert_exporter": "python",
   "pygments_lexer": "ipython3",
   "version": "3.12.4"
  }
 },
 "nbformat": 4,
 "nbformat_minor": 5
}
