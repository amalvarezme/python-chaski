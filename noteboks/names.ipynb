{
 "cells": [
  {
   "cell_type": "code",
   "execution_count": 1,
   "id": "38c526a8-ee85-4429-b783-7a2c80df1530",
   "metadata": {},
   "outputs": [],
   "source": [
    "from names_generator import generate_name"
   ]
  },
  {
   "cell_type": "code",
   "execution_count": 9,
   "id": "d84aa9bb-6150-4815-957c-999f6095badc",
   "metadata": {},
   "outputs": [
    {
     "data": {
      "text/plain": [
       "'eloquent_carson'"
      ]
     },
     "execution_count": 9,
     "metadata": {},
     "output_type": "execute_result"
    }
   ],
   "source": [
    "generate_name()"
   ]
  },
  {
   "cell_type": "code",
   "execution_count": null,
   "id": "4b3daf5e-c9fc-48e9-af17-c89a22dbe1d2",
   "metadata": {},
   "outputs": [],
   "source": []
  },
  {
   "cell_type": "code",
   "execution_count": null,
   "id": "326ad9c5-96c1-4304-abac-b4f9d0070997",
   "metadata": {},
   "outputs": [],
   "source": []
  }
 ],
 "metadata": {
  "kernelspec": {
   "display_name": "Python 3 (ipykernel)",
   "language": "python",
   "name": "python3"
  },
  "language_info": {
   "codemirror_mode": {
    "name": "ipython",
    "version": 3
   },
   "file_extension": ".py",
   "mimetype": "text/x-python",
   "name": "python",
   "nbconvert_exporter": "python",
   "pygments_lexer": "ipython3",
   "version": "3.12.3"
  }
 },
 "nbformat": 4,
 "nbformat_minor": 5
}
