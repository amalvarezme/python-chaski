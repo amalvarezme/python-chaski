{
 "cells": [
  {
   "cell_type": "code",
   "execution_count": 4,
   "id": "b7e74547-7fef-4c10-b17b-5679a4c58868",
   "metadata": {},
   "outputs": [],
   "source": [
    "import pypokedex"
   ]
  },
  {
   "cell_type": "code",
   "execution_count": 5,
   "id": "61bc0bde-b465-4b74-b820-b0c261d9403e",
   "metadata": {},
   "outputs": [
    {
     "data": {
      "text/plain": [
       "<pypokedex.pokemon.Pokemon at 0x79600ff33740>"
      ]
     },
     "execution_count": 5,
     "metadata": {},
     "output_type": "execute_result"
    }
   ],
   "source": [
    "pypokedex.get(dex=300)"
   ]
  },
  {
   "cell_type": "code",
   "execution_count": null,
   "id": "0e3ccf36-c1f5-4200-9d46-f98b71361f2e",
   "metadata": {},
   "outputs": [],
   "source": []
  }
 ],
 "metadata": {
  "kernelspec": {
   "display_name": "Python 3 (ipykernel)",
   "language": "python",
   "name": "python3"
  },
  "language_info": {
   "codemirror_mode": {
    "name": "ipython",
    "version": 3
   },
   "file_extension": ".py",
   "mimetype": "text/x-python",
   "name": "python",
   "nbconvert_exporter": "python",
   "pygments_lexer": "ipython3",
   "version": "3.12.3"
  }
 },
 "nbformat": 4,
 "nbformat_minor": 5
}
